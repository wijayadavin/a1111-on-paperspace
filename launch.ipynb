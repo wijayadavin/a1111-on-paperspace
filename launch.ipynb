{
 "cells": [
  {
   "cell_type": "code",
   "execution_count": null,
   "metadata": {},
   "outputs": [],
   "source": [
    "# Import dependencies\n",
    "import os"
   ]
  },
  {
   "cell_type": "code",
   "execution_count": null,
   "metadata": {},
   "outputs": [],
   "source": [
    "# Clone AUTOMATIC1111 SD WebUI repository (First time only)\n",
    "if os.path.exists('/notebooks/stable-diffusion-webui'):\n",
    "    print(\"Clone already completed. No action needed.\")\n",
    "else:\n",
    "    %cd /notebooks\n",
    "    !git clone https://github.com/AUTOMATIC1111/stable-diffusion-webui"
   ]
  },
  {
   "cell_type": "code",
   "execution_count": null,
   "metadata": {},
   "outputs": [],
   "source": [
    "# Update repositories\n",
    "%cd /notebooks/stable-diffusion-webui\n",
    "!git checkout master\n",
    "!git pull\n",
    "\n",
    "%cd /notebooks/paperspace-automatic1111\n",
    "!git checkout master\n",
    "!git pull"
   ]
  },
  {
   "cell_type": "code",
   "execution_count": null,
   "metadata": {},
   "outputs": [],
   "source": [
    "# Download Models (First time only)\n",
    "# Replace to your own huggingface model, e.g. https://huggingface.co/Username/RepoName/resolve/main/mix_name.safetensors\n",
    "model_url = 'https://huggingface.co/WarriorMama777/OrangeMixs/resolve/main/Models/AbyssOrangeMix2/AbyssOrangeMix2_sfw.safetensors'\n",
    "\n",
    "# Automatically recognizing the file name E.g. 'mix_name.safetensors'\n",
    "model_name = model_url.split('/')[-1]\n",
    "# Download if not exist\n",
    "if not os.path.exists(f'/notebooks/stable-diffusion-webui/models/Stable-diffusion/{model_name}'):\n",
    "    %cd /notebooks/stable-diffusion-webui/models/Stable-diffusion\n",
    "    !wget $model_url\n",
    "else:\n",
    "    print('Model already exist. No action needed.')\n",
    "\n",
    "\n",
    "# Download VAE files (First time only)\n",
    "# Replace to your own huggingface VAE, e.g. https://huggingface.co/Username/RepoName/resolve/main/vae_name.xx\n",
    "vae_url = 'https://huggingface.co/WarriorMama777/OrangeMixs/resolve/main/VAEs/orangemix.vae.pt'\n",
    "\n",
    "# Automatically recognizing the file name E.g. 'vae_name.xx'\n",
    "vae_name = vae_url.split('/')[-1]\n",
    "# Download if not exist\n",
    "if not os.path.exists(f'/notebooks/stable-diffusion-webui/models/VAE/{vae_name}'):\n",
    "    %cd /notebooks/stable-diffusion-webui/models/VAE/\n",
    "    !wget $vae_url\n",
    "else:\n",
    "    print('VAE already exist. No action needed.')"
   ]
  },
  {
   "cell_type": "code",
   "execution_count": null,
   "metadata": {},
   "outputs": [],
   "source": [
    "### Launch public URL. wait until PUBLIC URL appeared in the output, then ctrl+click on the URL\n",
    "# When asked for credentials, fill it with => (username = admin), (password = admin).\n",
    "\n",
    "# Solve dependency issue\n",
    "!pip install --upgrade torch==1.9.0\n",
    "!pip install --upgrade torchvision==0.10.0\n",
    "!pip install --upgrade torchaudio==0.9.0\n",
    "\n",
    "# Launch\n",
    "%cd /notebooks/stable-diffusion-webui\n",
    "!python3 launch.py --enable-insecure-extension-access --share --gradio-auth admin:admin"
   ]
  }
 ],
 "metadata": {
  "language_info": {
   "name": "python"
  },
  "orig_nbformat": 4
 },
 "nbformat": 4,
 "nbformat_minor": 2
}
