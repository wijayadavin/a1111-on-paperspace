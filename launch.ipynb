{
 "cells": [
  {
   "cell_type": "code",
   "execution_count": null,
   "metadata": {},
   "outputs": [],
   "source": [
    "# (Run this/run all) Import dependencies\n",
    "import os\n",
    "import re"
   ]
  },
  {
   "cell_type": "code",
   "execution_count": null,
   "metadata": {},
   "outputs": [],
   "source": [
    "# (First time only) Clone AUTOMATIC1111 SD WebUI repository\n",
    "if os.path.exists('/notebooks/stable-diffusion-webui'):\n",
    "    print(\"Clone already completed. No action needed.\")\n",
    "else:\n",
    "    %cd /notebooks\n",
    "    !git clone https://github.com/AUTOMATIC1111/stable-diffusion-webui"
   ]
  },
  {
   "cell_type": "code",
   "execution_count": null,
   "metadata": {},
   "outputs": [],
   "source": [
    "# (Run this) Update repositories\n",
    "%cd /notebooks/stable-diffusion-webui\n",
    "!git checkout master\n",
    "!git pull\n",
    "\n",
    "%cd /notebooks/paperspace-automatic1111\n",
    "!git checkout master\n",
    "!git pull"
   ]
  },
  {
   "cell_type": "code",
   "execution_count": null,
   "metadata": {},
   "outputs": [],
   "source": [
    "# (Run this) The function to download files (Currently only support Huggingface URLs)\n",
    "def download_files(file_urls, download_path, file_type):\n",
    "    for file_url in file_urls:\n",
    "        segments = file_url.split('/')\n",
    "        file_name = segments[-1] # Todo: Add support for non-huggingface URLs\n",
    "        new_file_name = file_name\n",
    "        \n",
    "        if file_type == 'VAE':\n",
    "            split_segments = [segment.split('.') for segment in segments]\n",
    "            file_format = split_segments[-1]\n",
    "            if file_format[-1] == 'ckpt':\n",
    "                version = re.search(r'\\d+', file_format[0]).group()\n",
    "                new_file_name = re.sub(r'\\d+', version, file_format[0]) + '.ckpt.vae.pt'\n",
    "        \n",
    "        if not os.path.exists(os.path.join(download_path, new_file_name)):\n",
    "            !wget -P $download_path $file_url\n",
    "            if (file_type == 'Model' || file_type == 'VAE') && new_file_name != file_name:\n",
    "                os.rename(os.path.join(download_path, file_name), os.path.join(download_path, new_file_name))\n",
    "            print(f'{file_type} {file_name} downloaded.')\n",
    "        else:\n",
    "            print(f'{file_type} {file_name} already exists. No action needed.')"
   ]
  },
  {
   "cell_type": "code",
   "execution_count": null,
   "metadata": {},
   "outputs": [],
   "source": [
    "# (Run this) Input URLS to download supporting files\n",
    "model_urls = [\n",
    "    'https://huggingface.co/WarriorMama777/OrangeMixs/resolve/main/Models/AbyssOrangeMix2/AbyssOrangeMix2_sfw.safetensors',\n",
    "    # Add more if needed\n",
    "]\n",
    "\n",
    "vae_urls = [\n",
    "    'https://huggingface.co/WarriorMama777/OrangeMixs/resolve/main/VAEs/orangemix.vae.pt',\n",
    "    # Add more if needed\n",
    "]\n",
    "\n",
    "lora_urls = [\n",
    "    'https://civitai.com/api/download/models/75069',\n",
    "    # Add more if needed\n",
    "]\n",
    "\n",
    "# Text Inversion\n",
    "embedding_urls = [\n",
    "    'https://civitai.com/api/download/models/74332',\n",
    "    # Add more if needed\n",
    "]"
   ]
  },
  {
   "cell_type": "code",
   "execution_count": null,
   "metadata": {},
   "outputs": [],
   "source": [
    "# (Run this) Locate the download path\n",
    "model_download_path = '/notebooks/stable-diffusion-webui/models/Stable-diffusion'\n",
    "vae_download_path = '/notebooks/stable-diffusion-webui/models/VAE'\n",
    "lora_download_path = '/notebooks/stable-diffusion-webui/models/Lora'\n",
    "embedding_download_path = '/notebooks/stable-diffusion-webui/embeddings'"
   ]
  },
  {
   "cell_type": "code",
   "execution_count": null,
   "metadata": {},
   "outputs": [],
   "source": [
    "# (Run this) Download the Models\n",
    "download_files(model_urls, model_download_path, 'Model')"
   ]
  },
  {
   "cell_type": "code",
   "execution_count": null,
   "metadata": {},
   "outputs": [],
   "source": [
    "# (Run this) Download the VAE\n",
    "download_files(vae_urls, vae_download_path, 'VAE')"
   ]
  },
  {
   "cell_type": "code",
   "execution_count": null,
   "metadata": {},
   "outputs": [],
   "source": [
    "# (Run this) Download the Lora\n",
    "download_files(lora_urls, lora_download_path, 'Lora')"
   ]
  },
  {
   "cell_type": "code",
   "execution_count": null,
   "metadata": {},
   "outputs": [],
   "source": [
    "# (Run this) Download the Embedding/Text Inversion\n",
    "download_files(embedding_urls, embedding_download_path, 'Embedding/Text Inversion')"
   ]
  },
  {
   "cell_type": "code",
   "execution_count": null,
   "metadata": {},
   "outputs": [],
   "source": [
    "### (Run this) Launching public URL. wait until PUBLIC URL appeared in the output, then ctrl+click on the URL\n",
    "# When asked for credentials, fill it with => (username = admin), (password = admin).\n",
    "\n",
    "# Solve dependency issue\n",
    "!pip install --upgrade torch==1.9.0\n",
    "!pip install --upgrade torchvision==0.10.0\n",
    "!pip install --upgrade torchaudio==0.9.0\n",
    "\n",
    "# Launch\n",
    "%cd /notebooks/stable-diffusion-webui\n",
    "!python3 launch.py --enable-insecure-extension-access --share --gradio-auth admin:admin --precision full --no-half --xformers --disable-safe-unpickle"
   ]
  }
 ],
 "metadata": {
  "kernelspec": {
   "display_name": "Python 3",
   "language": "python",
   "name": "python3"
  },
  "language_info": {
   "codemirror_mode": {
    "name": "ipython",
    "version": 3
   },
   "file_extension": ".py",
   "mimetype": "text/x-python",
   "name": "python",
   "nbconvert_exporter": "python",
   "pygments_lexer": "ipython3",
   "version": "3.8.10"
  },
  "orig_nbformat": 4
 },
 "nbformat": 4,
 "nbformat_minor": 2
}
