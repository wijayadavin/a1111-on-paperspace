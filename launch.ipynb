{
 "cells": [
  {
   "cell_type": "code",
   "execution_count": null,
   "metadata": {},
   "outputs": [],
   "source": [
    "# Download Models (First time only)\n",
    "# Replace to your own huggingface model, e.g. https://huggingface.co/Username/RepoName/resolve/main/mix_name.safetensors\n",
    "model_url = 'https://huggingface.co/Vsukiyaki/SukiyakiMix-v1.0/resolve/main/SukiyakiMix-v1.0-fp16.safetensors'\n",
    "model_name = 'SukiyakiMix-v1.0-fp16.safetensors'\n",
    "if not os.path.exists(f'/notebooks/stable-diffusion-webui/models/Stable-diffusion/{model_name}'):\n",
    "    %cd /notebooks/stable-diffusion-webui/models/Stable-diffusion\n",
    "    %wget $model_url\n",
    "\n",
    "# Download VAE files (First time only)\n",
    "# Replace to your own huggingface VAE, e.g. https://huggingface.co/Username/RepoName/resolve/main/vae_name.xx\n",
    "vae_url = 'https://huggingface.co/WarriorMama777/OrangeMixs/resolve/main/VAEs/orangemix.vae.pt'\n",
    "vae_name = 'orangemix.vae.pt'\n",
    "if not os.path.exists(f'/notebooks/stable-diffusion-webui/models/VAE/{vae_name}'):\n",
    "    %cd /notebooks/stable-diffusion-webui/models/VAE/\n",
    "    %wget $vae_url"
   ]
  },
  {
   "cell_type": "code",
   "execution_count": null,
   "metadata": {},
   "outputs": [],
   "source": [
    "### Launch public URL. wait until PUBLIC URL appeared in the output, then ctrl+click on the URL\n",
    "# When asked for credentials, fill it with => (username = admin), (password = admin).\n",
    "\n",
    "# Solve dependency issue\n",
    "!pip install --upgrade torch==1.9.0\n",
    "!pip install --upgrade torchvision==0.10.0\n",
    "!pip install --upgrade torchaudio==0.9.0\n",
    "\n",
    "# Launch\n",
    "%cd /notebooks/stable-diffusion-webui\n",
    "!python3 launch.py --enable-insecure-extension-access --share --gradio-auth admin:admin"
   ]
  }
 ],
 "metadata": {
  "language_info": {
   "name": "python"
  },
  "orig_nbformat": 4
 },
 "nbformat": 4,
 "nbformat_minor": 2
}
