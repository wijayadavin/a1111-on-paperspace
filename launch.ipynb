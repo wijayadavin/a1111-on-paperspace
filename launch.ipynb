{
 "cells": [
  {
   "cell_type": "code",
   "execution_count": null,
   "metadata": {},
   "outputs": [],
   "source": [
    "# (Run this/run all) Import dependencies\n",
    "import os\n",
    "import re"
   ]
  },
  {
   "cell_type": "code",
   "execution_count": null,
   "metadata": {},
   "outputs": [],
   "source": [
    "# (First time only) Clone AUTOMATIC1111 SD WebUI repository\n",
    "if os.path.exists('/notebooks/stable-diffusion-webui'):\n",
    "    print(\"Clone already completed. No action needed.\")\n",
    "else:\n",
    "    %cd /notebooks\n",
    "    !git clone https://github.com/AUTOMATIC1111/stable-diffusion-webui"
   ]
  },
  {
   "cell_type": "code",
   "execution_count": null,
   "metadata": {},
   "outputs": [],
   "source": [
    "# (Run this) Update repositories\n",
    "%cd /notebooks/stable-diffusion-webui\n",
    "!git checkout master\n",
    "!git pull\n",
    "\n",
    "%cd /notebooks/paperspace-automatic1111\n",
    "!git checkout master\n",
    "!git pull"
   ]
  },
  {
   "cell_type": "code",
   "execution_count": null,
   "metadata": {},
   "outputs": [],
   "source": [
    "### (Run this) The function to download files\n",
    "# (Using URLs from Github file download link/CivitAi download link/HuggingFace download link)\n",
    "def download_files(file_urls, download_path, file_type):\n",
    "    for file_url in file_urls:\n",
    "        segments = file_url.split('/')\n",
    "        file_name = segments[-1]\n",
    "        new_file_name = file_name\n",
    "        \n",
    "        if file_type == 'VAE':\n",
    "            split_segments = [segment.split('.') for segment in segments]\n",
    "            file_format = split_segments[-1]\n",
    "            if file_format[-1] == 'ckpt':\n",
    "                version = re.search(r'\\d+', file_format[0]).group()\n",
    "                new_file_name = re.sub(r'\\d+', version, file_format[0]) + '.ckpt.vae.pt'\n",
    "        \n",
    "        if not os.path.exists(os.path.join(download_path, new_file_name)):\n",
    "            !wget -P $download_path $file_url\n",
    "            if (file_type == 'Model' || file_type == 'VAE') && new_file_name != file_name:\n",
    "                os.rename(os.path.join(download_path, file_name), os.path.join(download_path, new_file_name))\n",
    "            print(f'{file_type} {file_name} downloaded.')\n",
    "        else:\n",
    "            print(f'{file_type} {file_name} already exists. No action needed.')"
   ]
  },
  {
   "cell_type": "code",
   "execution_count": null,
   "metadata": {},
   "outputs": [],
   "source": [
    "# (Run this) Input URLS to download supporting files\n",
    "model_urls = [\n",
    "    'https://huggingface.co/WarriorMama777/OrangeMixs/resolve/main/Models/AbyssOrangeMix2/AbyssOrangeMix2_sfw.safetensors',\n",
    "    # Add more if needed\n",
    "]\n",
    "\n",
    "vae_urls = [\n",
    "    'https://huggingface.co/WarriorMama777/OrangeMixs/resolve/main/VAEs/orangemix.vae.pt',\n",
    "    # Add more if needed\n",
    "]\n",
    "\n",
    "lora_urls = [\n",
    "    'https://civitai.com/api/download/models/75069', # AS-Adult-neg.pt\n",
    "    # Add more if needed\n",
    "]\n",
    "\n",
    "# Text Inversion\n",
    "embedding_urls = [\n",
    "    'https://civitai.com/api/download/models/74332', # FilmProvia2.safetensors\n",
    "    'https://civitai.com/api/download/models/20068' # badhandv4.pt\n",
    "    # Add more if needed\n",
    "]"
   ]
  },
  {
   "cell_type": "code",
   "execution_count": null,
   "metadata": {},
   "outputs": [],
   "source": [
    "# (Run this) Locate the download path\n",
    "model_download_path = '/notebooks/stable-diffusion-webui/models/Stable-diffusion'\n",
    "vae_download_path = '/notebooks/stable-diffusion-webui/models/VAE'\n",
    "lora_download_path = '/notebooks/stable-diffusion-webui/models/Lora'\n",
    "embedding_download_path = '/notebooks/stable-diffusion-webui/embeddings'"
   ]
  },
  {
   "cell_type": "code",
   "execution_count": null,
   "metadata": {},
   "outputs": [],
   "source": [
    "# (Run this) Download the Models\n",
    "download_files(model_urls, model_download_path, 'Model')"
   ]
  },
  {
   "cell_type": "code",
   "execution_count": null,
   "metadata": {},
   "outputs": [],
   "source": [
    "# (Run this) Download the VAE\n",
    "download_files(vae_urls, vae_download_path, 'VAE')"
   ]
  },
  {
   "cell_type": "code",
   "execution_count": null,
   "metadata": {},
   "outputs": [],
   "source": [
    "# (Run this) Download the Lora\n",
    "download_files(lora_urls, lora_download_path, 'Lora')"
   ]
  },
  {
   "cell_type": "code",
   "execution_count": null,
   "metadata": {},
   "outputs": [],
   "source": [
    "# (Run this) Download the Embedding/Text Inversion\n",
    "download_files(embedding_urls, embedding_download_path, 'Embedding/Text Inversion')"
   ]
  },
  {
   "cell_type": "code",
   "execution_count": 1,
   "metadata": {},
   "outputs": [
    {
     "name": "stdout",
     "output_type": "stream",
     "text": [
      "^C\n",
      "Traceback (most recent call last):\n",
      "  File \"/bin/pip\", line 11, in <module>\n",
      "    load_entry_point('pip==20.0.2', 'console_scripts', 'pip')()\n",
      "  File \"/usr/lib/python3/dist-packages/pkg_resources/__init__.py\", line 490, in load_entry_point\n",
      "    return get_distribution(dist).load_entry_point(group, name)\n",
      "  File \"/usr/lib/python3/dist-packages/pkg_resources/__init__.py\", line 2854, in load_entry_point\n",
      "    return ep.load()\n",
      "  File \"/usr/lib/python3/dist-packages/pkg_resources/__init__.py\", line 2445, in load\n",
      "    return self.resolve()\n",
      "  File \"/usr/lib/python3/dist-packages/pkg_resources/__init__.py\", line 2451, in resolve\n",
      "    module = __import__(self.module_name, fromlist=['__name__'], level=0)\n",
      "  File \"/usr/lib/python3/dist-packages/pip/_internal/cli/main.py\", line 10, in <module>\n",
      "    from pip._internal.cli.autocompletion import autocomplete\n",
      "  File \"/usr/lib/python3/dist-packages/pip/_internal/cli/autocompletion.py\", line 9, in <module>\n",
      "    from pip._internal.cli.main_parser import create_main_parser\n",
      "  File \"/usr/lib/python3/dist-packages/pip/_internal/cli/main_parser.py\", line 7, in <module>\n",
      "    from pip._internal.cli import cmdoptions\n",
      "  File \"/usr/lib/python3/dist-packages/pip/_internal/cli/cmdoptions.py\", line 24, in <module>\n",
      "    from pip._internal.exceptions import CommandError\n",
      "  File \"/usr/lib/python3/dist-packages/pip/_internal/exceptions.py\", line 10, in <module>\n",
      "    from pip._vendor.six import iteritems\n",
      "  File \"/usr/lib/python3/dist-packages/pip/_vendor/__init__.py\", line 69, in <module>\n",
      "    vendored(\"distro\")\n",
      "  File \"/usr/lib/python3/dist-packages/pip/_vendor/__init__.py\", line 36, in vendored\n",
      "    __import__(modulename, globals(), locals(), level=0)\n",
      "  File \"<frozen importlib._bootstrap>\", line 991, in _find_and_load\n",
      "  File \"<frozen importlib._bootstrap>\", line 975, in _find_and_load_unlocked\n",
      "  File \"<frozen importlib._bootstrap>\", line 655, in _load_unlocked\n",
      "  File \"<frozen importlib._bootstrap>\", line 618, in _load_backward_compatible\n",
      "  File \"<frozen zipimport>\", line 259, in load_module\n",
      "  File \"/usr/share/python-wheels/distro-1.4.0-py2.py3-none-any.whl/distro.py\", line 38, in <module>\n",
      "    import subprocess\n",
      "  File \"<frozen importlib._bootstrap>\", line 991, in _find_and_load\n",
      "  File \"<frozen importlib._bootstrap>\", line 975, in _find_and_load_unlocked\n",
      "  File \"<frozen importlib._bootstrap>\", line 671, in _load_unlocked\n",
      "  File \"<frozen importlib._bootstrap_external>\", line 844, in exec_module\n",
      "  File \"<frozen importlib._bootstrap_external>\", line 939, in get_code\n",
      "  File \"<frozen importlib._bootstrap_external>\", line 1038, in get_data\n",
      "KeyboardInterrupt\n",
      "Collecting torchvision==0.10.0\n",
      "  Downloading torchvision-0.10.0-cp38-cp38-manylinux1_x86_64.whl (22.1 MB)\n",
      "\u001b[K     |█████████████████▍              | 12.0 MB 2.2 MB/s eta 0:00:05    |█▎                              | 890 kB 2.6 MB/s eta 0:00:09     |██▍                             | 1.7 MB 2.6 MB/s eta 0:00:08     |████▋                           | 3.2 MB 676 kB/s eta 0:00:29"
     ]
    }
   ],
   "source": [
    "### (Run this) Launching public URL. wait until PUBLIC URL appeared in the output, then ctrl+click on the URL\n",
    "# When asked for credentials, fill it with => (username = admin), (password = admin).\n",
    "\n",
    "# Solve dependency issue\n",
    "!pip install --upgrade torch==1.9.0\n",
    "!pip install --upgrade torchvision==0.10.0\n",
    "!pip install --upgrade torchaudio==0.9.0\n",
    "\n",
    "### Launch\n",
    "# (Optional to prevent torch.cuda.OutOfMemoryError) If your VGA card is medium or low, then you might want \n",
    "#   to add --medvram for medium VGA cards and --lowvram for low tier VGA cards.\n",
    "#   Read more: https://github.com/AUTOMATIC1111/stable-diffusion-webui/wiki/Optimizations\n",
    "%cd /notebooks/stable-diffusion-webui\n",
    "!python3 launch.py --enable-insecure-extension-access --share --gradio-auth admin:admin --precision full --no-half --xformers --disable-safe-unpickle"
   ]
  },
  {
   "cell_type": "code",
   "execution_count": null,
   "metadata": {},
   "outputs": [],
   "source": [
    "# "
   ]
  }
 ],
 "metadata": {
  "kernelspec": {
   "display_name": "Python 3",
   "language": "python",
   "name": "python3"
  },
  "language_info": {
   "codemirror_mode": {
    "name": "ipython",
    "version": 3
   },
   "file_extension": ".py",
   "mimetype": "text/x-python",
   "name": "python",
   "nbconvert_exporter": "python",
   "pygments_lexer": "ipython3",
   "version": "3.8.10"
  },
  "orig_nbformat": 4
 },
 "nbformat": 4,
 "nbformat_minor": 2
}
