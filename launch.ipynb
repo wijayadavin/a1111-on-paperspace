{
 "cells": [
  {
   "cell_type": "code",
   "execution_count": null,
   "metadata": {},
   "outputs": [],
   "source": [
    "# Import dependencies\n",
    "import os\n",
    "import re"
   ]
  },
  {
   "cell_type": "code",
   "execution_count": null,
   "metadata": {},
   "outputs": [],
   "source": [
    "# Clone AUTOMATIC1111 SD WebUI repository (First time only)\n",
    "if os.path.exists('/notebooks/stable-diffusion-webui'):\n",
    "    print(\"Clone already completed. No action needed.\")\n",
    "else:\n",
    "    %cd /notebooks\n",
    "    !git clone https://github.com/AUTOMATIC1111/stable-diffusion-webui"
   ]
  },
  {
   "cell_type": "code",
   "execution_count": null,
   "metadata": {},
   "outputs": [],
   "source": [
    "# Update repositories\n",
    "%cd /notebooks/stable-diffusion-webui\n",
    "!git checkout master\n",
    "!git pull\n",
    "\n",
    "%cd /notebooks/paperspace-automatic1111\n",
    "!git checkout master\n",
    "!git pull"
   ]
  },
  {
   "cell_type": "code",
   "execution_count": null,
   "metadata": {},
   "outputs": [],
   "source": [
    "# Download Models (First time only)\n",
    "# Replace to your own huggingface model, e.g. https://huggingface.co/Username/RepoName/resolve/main/mix_name.safetensors\n",
    "model_url = 'https://huggingface.co/WarriorMama777/OrangeMixs/resolve/main/Models/AbyssOrangeMix2/AbyssOrangeMix2_sfw.safetensors'\n",
    "\n",
    "# Automatically recognizing the file name E.g. 'mix_name.safetensors'\n",
    "model_name = model_url.split('/')[-1]\n",
    "# Download if not exist\n",
    "if not os.path.exists(f'/notebooks/stable-diffusion-webui/models/Stable-diffusion/{model_name}'):\n",
    "    %cd /notebooks/stable-diffusion-webui/models/Stable-diffusion\n",
    "    !wget $model_url\n",
    "else:\n",
    "    print('Model already exist. No action needed.')\n",
    "\n",
    "# Download VAE files (First time only)\n",
    "# Replace to your own huggingface VAE, e.g. https://huggingface.co/Username/RepoName/resolve/main/vae_name.xx\n",
    "vae_url = 'https://huggingface.co/WarriorMama777/OrangeMixs/resolve/main/VAEs/orangemix.vae.pt'\n",
    "# Automatically check filename should ended with '.ckpt.vae.pt'\n",
    "segments = vae_url.split('/')\n",
    "split_segments = [segment.split('.') for segment in segments]\n",
    "file_format = split_segments[-1]\n",
    "if file_format[-1] == 'ckpt':\n",
    "    version = re.search(r'\\d+', file_format[0]).group()  # Extract the version using regular expression\n",
    "    new_vae_name = re.sub(r'\\d+', version, file_format[0]) + '.ckpt.vae.pt'\n",
    "    rename_needed = True\n",
    "else:\n",
    "    new_vae_name = '.'.join(file_format)\n",
    "    rename_needed = False\n",
    "vae_name = segments[-1]\n",
    "# Download if not exist\n",
    "if not os.path.exists(f'/notebooks/stable-diffusion-webui/models/VAE/{new_vae_name}'):\n",
    "    %cd /notebooks/stable-diffusion-webui/models/VAE/\n",
    "    !wget $vae_url\n",
    "    if rename_needed:\n",
    "        os.rename(vae_name, new_vae_name)\n",
    "else:\n",
    "    print('VAE already exist. No action needed.')\n",
    "\n",
    "# Download LoRa files (First time only)\n",
    "lora_url = 'https://civitai.com/api/download/models/75069'\n",
    "\n",
    "# Automatically recognizing the file name E.g. 'mix_name.safetensors'\n",
    "lora_name = lora_url.split('/')[-1]\n",
    "# Download if not exist\n",
    "if not os.path.exists(f'/notebooks/stable-diffusion-webui/models/Lora/{model_name}'):\n",
    "    %cd /notebooks/stable-diffusion-webui/models/Lora\n",
    "    !wget $lora_url\n",
    "else:\n",
    "    print('Lora already exist. No action needed.')"
   ]
  },
  {
   "cell_type": "code",
   "execution_count": null,
   "metadata": {},
   "outputs": [],
   "source": [
    "### Launch public URL. wait until PUBLIC URL appeared in the output, then ctrl+click on the URL\n",
    "# When asked for credentials, fill it with => (username = admin), (password = admin).\n",
    "\n",
    "# Solve dependency issue\n",
    "!pip install --upgrade torch==1.9.0\n",
    "!pip install --upgrade torchvision==0.10.0\n",
    "!pip install --upgrade torchaudio==0.9.0\n",
    "\n",
    "# Launch\n",
    "%cd /notebooks/stable-diffusion-webui\n",
    "!python3 launch.py --enable-insecure-extension-access --share --gradio-auth admin:admin"
   ]
  }
 ],
 "metadata": {
  "kernelspec": {
   "display_name": "Python 3",
   "language": "python",
   "name": "python3"
  },
  "language_info": {
   "codemirror_mode": {
    "name": "ipython",
    "version": 3
   },
   "file_extension": ".py",
   "mimetype": "text/x-python",
   "name": "python",
   "nbconvert_exporter": "python",
   "pygments_lexer": "ipython3",
   "version": "3.8.10"
  },
  "orig_nbformat": 4
 },
 "nbformat": 4,
 "nbformat_minor": 2
}
