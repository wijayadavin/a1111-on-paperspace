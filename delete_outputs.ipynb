{
 "cells": [
  {
   "cell_type": "code",
   "execution_count": null,
   "metadata": {},
   "outputs": [],
   "source": [
    "## (DANGER AREA! YOU ARE ABOUT TO DELETE ALL OUTPUTS)\n",
    "# Run all if you are sure about deleting all outputs permanently (in /notebooks/stable-diffusion-webui/outputs)\n",
    "# Make sure to run zip_outputs.ipynb first before running this code\n",
    "import shutil\n",
    "import os\n",
    "import time"
   ]
  },
  {
   "cell_type": "code",
   "execution_count": null,
   "metadata": {},
   "outputs": [],
   "source": [
    "# (Run this) Enabling the function to delete files and folders\n",
    "def delete_files_and_folders(directory):\n",
    "    for root, dirs, files in os.walk(directory):\n",
    "        for file in files:\n",
    "            if not file.endswith('.zip'):\n",
    "                file_path = os.path.join(root, file)\n",
    "                os.remove(file_path)\n",
    "\n",
    "        for dir in dirs:\n",
    "            dir_path = os.path.join(root, dir)\n",
    "            shutil.rmtree(dir_path)"
   ]
  },
  {
   "cell_type": "code",
   "execution_count": null,
   "metadata": {},
   "outputs": [],
   "source": [
    "# (Run this) Enabling the function to confirm deletion with countdown\n",
    "def confirm_deletion(directory, countdown_duration=5):\n",
    "    print(f\"Warning: This will permanently delete all files and folders inside '{directory}', excluding zip files.\")\n",
    "    print(\"You have 5 seconds to cancel the operation.\")\n",
    "\n",
    "    for i in range(countdown_duration, 0, -1):\n",
    "        print(f\"Countdown: {i} seconds\")\n",
    "        time.sleep(1)"
   ]
  },
  {
   "cell_type": "code",
   "execution_count": null,
   "metadata": {},
   "outputs": [],
   "source": [
    "# (Run this) Enabling function to execute the deletion\n",
    "def delete_files_and_folders_in_directory(directory):\n",
    "    try:\n",
    "        if not os.path.exists(directory):\n",
    "            raise FileNotFoundError(\"The specified directory does not exist.\")\n",
    "\n",
    "        confirm_deletion(directory)\n",
    "        delete_files_and_folders(directory)\n",
    "\n",
    "        print(f\"Completed: All files and folders inside '{directory}', excluding zip files, have been permanently deleted.\")\n",
    "    except Exception as e:\n",
    "        print(\"An error occurred:\", str(e))"
   ]
  },
  {
   "cell_type": "code",
   "execution_count": null,
   "metadata": {},
   "outputs": [],
   "source": [
    "### (Run to delete outputs permanently) \n",
    "# Define the directory path to delete files and folders\n",
    "directory = '/notebooks/stable-diffusion-webui/outputs/'\n",
    "\n",
    "# Delete all files and folders inside 'outputs', excluding zip files\n",
    "delete_files_and_folders_in_directory(directory)"
   ]
  },
  {
   "cell_type": "code",
   "execution_count": null,
   "metadata": {},
   "outputs": [],
   "source": [
    "### (Alternative for notebook) Uncomment and run to permanently delete all files and folders inside outputs\n",
    "# (Alternative for terminal) Just uncomment and remove '%'\n",
    "# %rm -rf /notebooks/stable-diffusion-webui/outputs/*"
   ]
  }
 ],
 "metadata": {
  "language_info": {
   "name": "python"
  },
  "orig_nbformat": 4
 },
 "nbformat": 4,
 "nbformat_minor": 2
}
