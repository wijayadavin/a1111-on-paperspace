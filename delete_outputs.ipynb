{
 "cells": [
  {
   "cell_type": "code",
   "execution_count": null,
   "metadata": {},
   "outputs": [],
   "source": [
    "import shutil\n",
    "import os\n",
    "import time\n",
    "\n",
    "# Define the directory path to delete files and folders\n",
    "directory = '/notebooks/stable-diffusion-webui/outputs/'\n",
    "\n",
    "# Print a warning message about the irreversible deletion\n",
    "print(\"Warning: This will permanently delete all files and folders inside 'outputs', excluding zip files.\")\n",
    "print(\"You have 5 seconds to cancel the operation.\")\n",
    "\n",
    "# Countdown\n",
    "for i in range(5, 0, -1):\n",
    "    print(f\"Countdown: {i} seconds\")\n",
    "    time.sleep(1)\n",
    "\n",
    "# Delete all files and folders inside 'outputs', excluding zip files\n",
    "try:\n",
    "    for root, dirs, files in os.walk(directory):\n",
    "        for file in files:\n",
    "            if not file.endswith('.zip'):\n",
    "                file_path = os.path.join(root, file)\n",
    "                os.remove(file_path)\n",
    "        \n",
    "        for dir in dirs:\n",
    "            dir_path = os.path.join(root, dir)\n",
    "            shutil.rmtree(dir_path)\n",
    "    \n",
    "    # Print a completion message\n",
    "    print(\"Completed: All files and folders inside 'outputs', excluding zip files, have been permanently deleted.\")\n",
    "except FileNotFoundError:\n",
    "    print(\"Error: The specified directory 'outputs' does not exist.\")\n",
    "except Exception as e:\n",
    "    print(\"An error occurred:\", str(e))\n"
   ]
  },
  {
   "cell_type": "code",
   "execution_count": null,
   "metadata": {},
   "outputs": [],
   "source": [
    "### (Alternative for notebook) Uncomment and run to permanently delete all files and folders inside outputs\n",
    "# (Alternative for terminal) Just uncomment and remove '%'\n",
    "# %rm -rf /notebooks/stable-diffusion-webui/outputs/*"
   ]
  }
 ],
 "metadata": {
  "language_info": {
   "name": "python"
  },
  "orig_nbformat": 4
 },
 "nbformat": 4,
 "nbformat_minor": 2
}
