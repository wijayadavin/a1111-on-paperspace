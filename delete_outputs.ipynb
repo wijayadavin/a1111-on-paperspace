{
 "cells": [
  {
   "cell_type": "code",
   "execution_count": null,
   "metadata": {},
   "outputs": [],
   "source": [
    "# Permanently delete all files and folders inside outputs\n",
    "%rm -rf /notebooks/stable-diffusion-webui/outputs/*"
   ]
  }
 ],
 "metadata": {
  "language_info": {
   "name": "python"
  },
  "orig_nbformat": 4
 },
 "nbformat": 4,
 "nbformat_minor": 2
}
