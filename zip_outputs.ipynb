{
 "cells": [
  {
   "cell_type": "code",
   "execution_count": null,
   "metadata": {},
   "outputs": [],
   "source": [
    "import os\n",
    "from datetime import datetime\n",
    "import zipfile\n",
    "\n",
    "try:\n",
    "    output_path = '/notebooks/stable-diffusion-webui/outputs'\n",
    "    zip_name = f\"outputs_{datetime.now().strftime('%Y%m%d%H%M%S')}.zip\"\n",
    "\n",
    "    # Get a list of all files and folders in the output directory\n",
    "    file_list = []\n",
    "    for root, dirs, files in os.walk(output_path):\n",
    "        for file in files:\n",
    "            if not file.endswith('.zip'):  # Exclude existing zip files\n",
    "                file_path = os.path.join(root, file)\n",
    "                file_list.append(file_path)\n",
    "\n",
    "    # Create a zip file and add all files and folders\n",
    "    with zipfile.ZipFile(zip_name, 'w', zipfile.ZIP_DEFLATED) as zipf:\n",
    "        for file in file_list:\n",
    "            arcname = os.path.relpath(file, output_path)\n",
    "            zipf.write(file, arcname)\n",
    "\n",
    "    print('Completed: All files and folders in \"outputs\" directory have been zipped, excluding existing zip files.')\n",
    "except Exception as e:\n",
    "    print(f'Error occurred: {str(e)}')\n"
   ]
  },
  {
   "cell_type": "code",
   "execution_count": null,
   "metadata": {},
   "outputs": [],
   "source": [
    "### (Alternative for notebook) Uncomment and run to export all folders and files inside outputs\n",
    "# (Alternative for terminal) Uncomment, then remove '%' and '!'\n",
    "# %cd /notebooks/stable-diffusion-webui/outputs\n",
    "# !zip -r $(\"outputs_\" + date +\"%Y%m%d%H%M%S\").zip ."
   ]
  }
 ],
 "metadata": {
  "language_info": {
   "name": "python"
  },
  "orig_nbformat": 4
 },
 "nbformat": 4,
 "nbformat_minor": 2
}
