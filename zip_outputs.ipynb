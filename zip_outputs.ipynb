{
 "cells": [
  {
   "cell_type": "code",
   "execution_count": null,
   "metadata": {},
   "outputs": [],
   "source": [
    "# Export all folders and files inside outputs\n",
    "%cd /notebooks/stable-diffusion-webui/outputs\n",
    "!zip -r $(\"outputs_\" + date +\"%Y%m%d%H%M%S\").zip ."
   ]
  }
 ],
 "metadata": {
  "language_info": {
   "name": "python"
  },
  "orig_nbformat": 4
 },
 "nbformat": 4,
 "nbformat_minor": 2
}
