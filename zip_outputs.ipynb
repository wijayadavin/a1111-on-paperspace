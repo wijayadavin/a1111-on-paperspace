{
 "cells": [
  {
   "cell_type": "code",
   "execution_count": null,
   "metadata": {},
   "outputs": [],
   "source": [
    "# (Run this / Run all) Import libraries\n",
    "import os\n",
    "from datetime import datetime\n",
    "import zipfile"
   ]
  },
  {
   "cell_type": "code",
   "execution_count": null,
   "metadata": {},
   "outputs": [],
   "source": [
    "# Enable functions to zip output files\n",
    "\n",
    "def get_file_list(directory):\n",
    "    file_list = []\n",
    "    for root, dirs, files in os.walk(directory):\n",
    "        for file in files:\n",
    "            if not file.endswith('.zip'):\n",
    "                file_path = os.path.join(root, file)\n",
    "                file_list.append(file_path)\n",
    "    return file_list\n",
    "\n",
    "def create_zip(file_list, zip_name, output_directory, max_size):\n",
    "    zip_count = 1\n",
    "    current_zip_size = 0  # Track current zip file size\n",
    "    current_file_list = []\n",
    "    for file in file_list:\n",
    "        file_size = os.path.getsize(file)\n",
    "        if current_zip_size + file_size > max_size:\n",
    "            create_zip_file(current_file_list, zip_name, output_directory, zip_count)\n",
    "            current_zip_size = 0\n",
    "            current_file_list = []\n",
    "            zip_count += 1\n",
    "\n",
    "        current_file_list.append(file)\n",
    "        current_zip_size += file_size\n",
    "\n",
    "    if current_file_list:\n",
    "        create_zip_file(current_file_list, zip_name, output_directory, zip_count)\n",
    "\n",
    "def create_zip_file(file_list, zip_name, output_directory, zip_count):\n",
    "    current_zip_name = f\"{zip_name}_part{zip_count}.zip\"\n",
    "    current_zip_path = os.path.join(output_directory, current_zip_name)\n",
    "    with zipfile.ZipFile(current_zip_path, 'w', zipfile.ZIP_DEFLATED) as zipf:\n",
    "        for file in file_list:\n",
    "            arcname = os.path.relpath(file, output_directory)\n",
    "            zipf.write(file, arcname)"
   ]
  },
  {
   "cell_type": "code",
   "execution_count": null,
   "metadata": {},
   "outputs": [],
   "source": [
    "### (Run this) Zip all files and folders in /outputs except zip files\n",
    "# Configurations\n",
    "output_path = '/notebooks/stable-diffusion-webui/outputs'\n",
    "max_file_size = 250 * 1024 * 1024  # Maximum file size in bytes\n",
    "\n",
    "file_list = get_file_list(output_path)\n",
    "output_name = f\"outputs_{datetime.now().strftime('%Y%m%d%H%M%S')}\"\n",
    "\n",
    "try:\n",
    "    create_zip(file_list, output_name, output_path, max_file_size)\n",
    "    print(\"Success: All files have been zipped successfully.\")\n",
    "except Exception as e:\n",
    "    print(f\"Error occurred: {str(e)}\")"
   ]
  },
  {
   "cell_type": "code",
   "execution_count": null,
   "metadata": {},
   "outputs": [],
   "source": [
    "### (Alternative for notebook) Uncomment and run to export all folders and files inside outputs\n",
    "# (Alternative for terminal) Uncomment, then remove '%' and '!'\n",
    "# %cd /notebooks/stable-diffusion-webui/outputs\n",
    "# !zip -r $(\"outputs_\" + date +\"%Y%m%d%H%M%S\").zip ."
   ]
  }
 ],
 "metadata": {
  "language_info": {
   "name": "python"
  },
  "orig_nbformat": 4
 },
 "nbformat": 4,
 "nbformat_minor": 2
}
