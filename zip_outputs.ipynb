{
 "cells": [
  {
   "cell_type": "code",
   "execution_count": null,
   "metadata": {},
   "outputs": [],
   "source": [
    "import os\n",
    "from datetime import datetime\n",
    "\n",
    "try:\n",
    "    output_path = '/notebooks/stable-diffusion-webui/outputs'\n",
    "    zip_name = f\"outputs_{datetime.now().strftime('%Y%m%d%H%M%S')}.zip\"\n",
    "    os.chdir(output_path)\n",
    "    !zip -r $zip_name .\n",
    "    print('Completed!')\n",
    "except Exception as e:\n",
    "    print(f'Error occurred: {str(e)}')"
   ]
  }
 ],
 "metadata": {
  "language_info": {
   "name": "python"
  },
  "orig_nbformat": 4
 },
 "nbformat": 4,
 "nbformat_minor": 2
}
