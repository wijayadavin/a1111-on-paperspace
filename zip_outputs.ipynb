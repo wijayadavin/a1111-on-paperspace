{
 "cells": [
  {
   "cell_type": "code",
   "execution_count": null,
   "metadata": {},
   "outputs": [],
   "source": [
    "# (Run this / Run all) Import libraries\n",
    "import os\n",
    "from datetime import datetime\n",
    "import zipfile"
   ]
  },
  {
   "cell_type": "code",
   "execution_count": null,
   "metadata": {},
   "outputs": [],
   "source": [
    "# Enable functions to zip output files\n",
    "def get_file_list(directory):\n",
    "    file_list = []\n",
    "    for root, dirs, files in os.walk(directory):\n",
    "        for file in files:\n",
    "            if not file.endswith('.zip'):\n",
    "                file_path = os.path.join(root, file)\n",
    "                file_list.append(file_path)\n",
    "    return file_list\n",
    "\n",
    "def create_zip(file_list, zip_name, base_directory):\n",
    "    with zipfile.ZipFile(zip_name, 'w', zipfile.ZIP_DEFLATED) as zipf:\n",
    "        for file in file_list:\n",
    "            arcname = os.path.relpath(file, base_directory)\n",
    "            zipf.write(file, arcname)"
   ]
  },
  {
   "cell_type": "code",
   "execution_count": null,
   "metadata": {},
   "outputs": [],
   "source": [
    "# (Run this) Zip all files and folders in /outputs except zip files\n",
    "try:\n",
    "    output_path = '/notebooks/stable-diffusion-webui/outputs'\n",
    "    zip_name = f\"outputs_{datetime.now().strftime('%Y%m%d%H%M%S')}.zip\"\n",
    "\n",
    "    file_list = get_file_list(output_path)\n",
    "    create_zip(file_list, zip_name, output_path)\n",
    "\n",
    "    print('Completed: All files and folders in \"outputs\" directory have been zipped, excluding existing zip files.')\n",
    "except Exception as e:\n",
    "    print(f'Error occurred: {str(e)}')"
   ]
  },
  {
   "cell_type": "code",
   "execution_count": null,
   "metadata": {},
   "outputs": [],
   "source": [
    "### (Alternative for notebook) Uncomment and run to export all folders and files inside outputs\n",
    "# (Alternative for terminal) Uncomment, then remove '%' and '!'\n",
    "# %cd /notebooks/stable-diffusion-webui/outputs\n",
    "# !zip -r $(\"outputs_\" + date +\"%Y%m%d%H%M%S\").zip ."
   ]
  }
 ],
 "metadata": {
  "language_info": {
   "name": "python"
  },
  "orig_nbformat": 4
 },
 "nbformat": 4,
 "nbformat_minor": 2
}
